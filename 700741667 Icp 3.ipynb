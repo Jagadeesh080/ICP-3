{
 "cells": [
  {
   "cell_type": "code",
   "execution_count": 10,
   "id": "1670f122",
   "metadata": {},
   "outputs": [
    {
     "name": "stdout",
     "output_type": "stream",
     "text": [
      "avg: 4000.0\n",
      "Name :  Jack Family:  reacher Salary:  100000 department: Front-end\n",
      "Total Employee 3\n"
     ]
    },
    {
     "data": {
      "text/plain": [
       "('Tesla', None, None)"
      ]
     },
     "execution_count": 10,
     "metadata": {},
     "output_type": "execute_result"
    }
   ],
   "source": [
    "class Employee:#Employee class\n",
    "    empCount=0 ##employeeConut (keep track of number of employee objects)\n",
    "    salSum=0 #salSum (average of the salaries of the Employee object)\n",
    "    def __init__(self,name,family,salary,department): #constructor for Employee as per the requirements\n",
    "        self.name = name\n",
    "        self.family = family\n",
    "        self.salary = salary\n",
    "        self.department = department\n",
    "        Employee.empCount += 1\n",
    "        Employee.salSum+=self.salary\n",
    "    def avg(self):\n",
    "        return Employee.salSum/Employee.empCount\n",
    "    def displayCount(self): #One of the functions in Employee class\n",
    "        print (\"Total Employee %d\" % Employee.empCount)\n",
    "    def displayEmployee(self):#another function for employee class\n",
    "        print(\"Name : \", self.name, \"Family: \", self.family , \"Salary: \", self.salary, \"department:\",self.department)\n",
    "\n",
    "emp1 = Employee(\"arya\",\"stark\",5000,\"software\")#Employee objects creation with intialization\n",
    "emp2 = Employee(\"john\",\"wick\",3000,\"mechanic\")\n",
    "print(\"avg:\",emp2.avg())#calling average function\n",
    "class FulltimeEmployee(Employee):#FulltimeEmployee class with Employee as its parent class\n",
    "    def __init__(self,name,family,salary,department,c_name):#constructor for FulltimeEmployee\n",
    "        super().__init__(name,family,salary,department)\n",
    "        self.c_name=c_name\n",
    "    def setCompany(self,c_name):#one of the FulltimeEmployee class function\n",
    "        self.c_name=c_name\n",
    "    def getCompany(self):\n",
    "        if self.c_name not in self.c_name:\n",
    "            return \"\"\n",
    "        return self.c_name\n",
    "Jack=FulltimeEmployee(\"Jack\",\"reacher\",100000,\"Front-end\",\"Tesla\")#FultimeEmployee object\n",
    "Jack.setCompany(\"Tesla\")#calling the member functions of FulltimeEmploye and Employee\n",
    "Jack.getCompany(),Jack.displayEmployee(),emp1.displayCount()"
   ]
  },
  {
   "cell_type": "code",
   "execution_count": 6,
   "id": "246daa48",
   "metadata": {},
   "outputs": [
    {
     "name": "stdout",
     "output_type": "stream",
     "text": [
      "Random Vector:\n",
      "[11.7453152   2.85775069  2.94083831  0.          9.94420342  4.01005391\n",
      "  1.86007804  1.85178452  0.          5.07410577  7.56042234 12.63963176\n",
      "  6.44603797  0.          4.37475607  1.4016109   0.          3.93221092\n",
      "  2.98130964  1.24064749]\n",
      "\n",
      "Reshaped Array:\n",
      "[[11.7453152   2.85775069  2.94083831  0.          9.94420342]\n",
      " [ 4.01005391  1.86007804  1.85178452  0.          5.07410577]\n",
      " [ 7.56042234 12.63963176  6.44603797  0.          4.37475607]\n",
      " [ 1.4016109   0.          3.93221092  2.98130964  1.24064749]]\n"
     ]
    }
   ],
   "source": [
    "import numpy as np\n",
    "\n",
    "# Create a random vector of size 20 with float values in the range 1-20\n",
    "random_vector = np.random.uniform(1, 15, 20)\n",
    "\n",
    "# Reshape the array to 4 by 5\n",
    "reshaped_array = random_vector.reshape(4, 5)\n",
    "\n",
    "# Replace the max in each row by 0 (axis=1)\n",
    "reshaped_array[np.arange(4), np.argmax(reshaped_array, axis=1)] = 0\n",
    "\n",
    "print(\"Random Vector:\")\n",
    "print(random_vector)\n",
    "\n",
    "print(\"\\nReshaped Array:\")\n",
    "print(reshaped_array)"
   ]
  }
 ],
 "metadata": {
  "kernelspec": {
   "display_name": "Python 3 (ipykernel)",
   "language": "python",
   "name": "python3"
  },
  "language_info": {
   "codemirror_mode": {
    "name": "ipython",
    "version": 3
   },
   "file_extension": ".py",
   "mimetype": "text/x-python",
   "name": "python",
   "nbconvert_exporter": "python",
   "pygments_lexer": "ipython3",
   "version": "3.9.13"
  }
 },
 "nbformat": 4,
 "nbformat_minor": 5
}
